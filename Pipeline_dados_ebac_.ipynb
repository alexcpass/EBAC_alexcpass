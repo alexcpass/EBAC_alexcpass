{
  "nbformat": 4,
  "nbformat_minor": 0,
  "metadata": {
    "colab": {
      "private_outputs": true,
      "provenance": [],
      "authorship_tag": "ABX9TyNKb+bjSsb0+NcNmdA6XY24",
      "include_colab_link": true
    },
    "kernelspec": {
      "name": "python3",
      "display_name": "Python 3"
    },
    "language_info": {
      "name": "python"
    }
  },
  "cells": [
    {
      "cell_type": "markdown",
      "metadata": {
        "id": "view-in-github",
        "colab_type": "text"
      },
      "source": [
        "<a href=\"https://colab.research.google.com/github/alexcpass/EBAC_alexcpass/blob/main/Pipeline_dados_ebac_.ipynb\" target=\"_parent\"><img src=\"https://colab.research.google.com/assets/colab-badge.svg\" alt=\"Open In Colab\"/></a>"
      ]
    },
    {
      "cell_type": "markdown",
      "source": [
        "Projeto Final - Pipeline de dados Whatsapp/Twilio"
      ],
      "metadata": {
        "id": "tvxhON2FhR-H"
      }
    },
    {
      "cell_type": "markdown",
      "source": [
        "O objetivo é enviar dados de um notebook no Google Colab para o WhatsApp. Esse é um exemplo básico usando a biblioteca twilio, que permite o envio de mensagens via WhatsApp usando Python.\n",
        "\n",
        "Configuração prévia:\n",
        "Ter uma conta no Twilio ( https://www.twilio.com/ ) e anotar o SID da conta, o Token de autenticação e o número do WhatsApp fornecido pelo Twilio.\n",
        "Configuração do ambiente:\n",
        "Instalar uma biblioteca twilio no Colab para enviar mensagens pelo WhatsApp."
      ],
      "metadata": {
        "id": "nIrKZDdleupV"
      }
    },
    {
      "cell_type": "markdown",
      "source": [
        "#Primeira fase: Instalação de pacotes, extração, tratamento e carregamento dos dados"
      ],
      "metadata": {
        "id": "rYg2MSPlrAN0"
      }
    },
    {
      "cell_type": "markdown",
      "source": [
        "\n",
        "\n",
        "1.   Preparação: Instalação das bibliotecas necessárias (twilio, json)\n",
        "\n"
      ],
      "metadata": {
        "id": "KnGaylw-on77"
      }
    },
    {
      "cell_type": "code",
      "source": [
        "!pip install twilio\n"
      ],
      "metadata": {
        "id": "RFzxvi_GTqyk"
      },
      "execution_count": null,
      "outputs": []
    },
    {
      "cell_type": "markdown",
      "source": [
        "Importar bibliotecas necessárias:"
      ],
      "metadata": {
        "id": "MpkrpZdEVPnW"
      }
    },
    {
      "cell_type": "code",
      "source": [
        "from twilio.rest import Client\n"
      ],
      "metadata": {
        "id": "I-JOj23me9ZL"
      },
      "execution_count": null,
      "outputs": []
    },
    {
      "cell_type": "markdown",
      "source": [
        "2.   Autenticação do Twilio:\n",
        "Inserir credenciais de login no site do Twilio (SID da conta e Token de login) no código abaixo:"
      ],
      "metadata": {
        "id": "lnruNGWNfC3p"
      }
    },
    {
      "cell_type": "code",
      "source": [
        "account_sid = 'ACceacxxxxxxxxxxxxxxxxxxxxxx'\n",
        "auth_token = '1cxxxxxxxxxxxxxxxxxxxxxxxxxx'\n",
        "client = Client(account_sid, auth_token)\n"
      ],
      "metadata": {
        "id": "zC6vFkuGfDv3"
      },
      "execution_count": null,
      "outputs": []
    },
    {
      "cell_type": "markdown",
      "source": [
        "3.   Utilizar o código a seguir para enviar uma mensagem para o número de WhatsApp configurado no Twilio. Esse código irá interpretar as mensagens do aplicativo."
      ],
      "metadata": {
        "id": "18XeUMvnfX6x"
      }
    },
    {
      "cell_type": "code",
      "source": [
        "import json"
      ],
      "metadata": {
        "id": "ClZPO70cipsH"
      },
      "execution_count": null,
      "outputs": []
    },
    {
      "cell_type": "code",
      "source": [
        "def enviar_mensagem_whatsapp(mensagem, numero_whatsapp):\n",
        "    try:\n",
        "        message = client.messages.create(\n",
        "            body=mensagem,\n",
        "            from_='whatsapp:+1xxxxxxxxxxxx',\n",
        "            to=f'whatsapp:{numero_whatsapp}'\n",
        "        )\n",
        "        print(f'Mensagem enviada com sucesso!. SID da mensagem: {message.sid}')\n",
        "    except Exception as e:\n",
        "        print(f'Erro ao enviar mensagem: {str(e)}')\n",
        "\n",
        "# Exemplo de uso\n",
        "mensagem_para_enviar = \"Olá! Essa é mais uma mensagem enviada pelo Google Colab via WhatsApp.Pipeline Ebac.\"\n",
        "numero_destinatario = \"5511xxxxxxxxxxxx\"  # O número precisa estar com o código do país, ex: +55 para o Brasil\n",
        "\n",
        "enviar_mensagem_whatsapp(mensagem_para_enviar, numero_destinatario)\n"
      ],
      "metadata": {
        "id": "TzET2eWefRAV"
      },
      "execution_count": null,
      "outputs": []
    },
    {
      "cell_type": "markdown",
      "source": [
        "4.   Modificar a função enviar_mensagem_whatsapp()para salvar as mensagens em um arquivo JSON\n",
        "\n"
      ],
      "metadata": {
        "id": "jGoZbqmDgIli"
      }
    },
    {
      "cell_type": "code",
      "source": [
        "import json\n"
      ],
      "metadata": {
        "id": "_0T-zrUPgOHb"
      },
      "execution_count": null,
      "outputs": []
    },
    {
      "cell_type": "markdown",
      "source": [
        "5.   Modificar a função enviar_mensagem_whatsapp()para salvar as mensagens em um arquivo JSON:"
      ],
      "metadata": {
        "id": "9OybqJcfgUxf"
      }
    },
    {
      "cell_type": "code",
      "source": [
        "def enviar_mensagem_whatsapp(mensagem, numero_whatsapp, arquivo_json):\n",
        "    try:\n",
        "        message = client.messages.create(\n",
        "            body=mensagem,\n",
        "            from_='whatsapp:+14xxxxxxxx',\n",
        "            to=f'whatsapp:{numero_whatsapp}'\n",
        "        )\n",
        "        print(f'Segunda mensagem enviada com sucesso! SID da mensagem: {message.sid}')\n",
        "\n",
        "        # Salvar a mensagem enviada no arquivo JSON\n",
        "        with open(arquivo_json, 'a', encoding='utf-8') as file:\n",
        "            mensagem_data = {\n",
        "                'mensagem': mensagem,\n",
        "                'numero_destinatario': numero_whatsapp,\n",
        "                'sid_mensagem': message.sid\n",
        "            }\n",
        "            json.dump(mensagem_data, file, ensure_ascii=False, indent=2)\n",
        "\n",
        "    except Exception as e:\n",
        "        print(f'Erro ao enviar mensagem: {str(e)}')\n"
      ],
      "metadata": {
        "id": "-3FLs0nagXac"
      },
      "execution_count": null,
      "outputs": []
    },
    {
      "cell_type": "markdown",
      "source": [
        "Defina o nome do arquivo JSON onde as mensagens serão salvas:"
      ],
      "metadata": {
        "id": "eolVRQlLgyEA"
      }
    },
    {
      "cell_type": "code",
      "source": [
        "nome_arquivo_json = 'mensagens_whatsapp.json'\n"
      ],
      "metadata": {
        "id": "YoDJwNXlgy6i"
      },
      "execution_count": null,
      "outputs": []
    },
    {
      "cell_type": "markdown",
      "source": [
        "Modificar o exemplo de uso para chamar a função enviar_mensagem_whatsapp()com o arquivo JSON:"
      ],
      "metadata": {
        "id": "1gB8SD5Wg4cR"
      }
    },
    {
      "cell_type": "code",
      "source": [
        "mensagem_para_enviar = \"Olá! Essa é a segunda mensagem enviada pelo Google Colab via WhatsApp.\"\n",
        "numero_destinatario = \"55xxxxxxxxxxxxx\"  # O número precisa estar com o código do país, ex: +55 para o Brasil\n",
        "\n",
        "enviar_mensagem_whatsapp(mensagem_para_enviar, numero_destinatario, nome_arquivo_json)\n"
      ],
      "metadata": {
        "id": "Tb85YjrHg6jG"
      },
      "execution_count": null,
      "outputs": []
    },
    {
      "cell_type": "markdown",
      "source": [
        "#Segunda Fase: Utilizar dados ficticios para exemplificar o trabalho anterior"
      ],
      "metadata": {
        "id": "C84E7wjnq0VT"
      }
    },
    {
      "cell_type": "markdown",
      "source": [
        "O exemplo acima nos mostra como é possivel acessar e monitorar as mensagens do Whatsapp via Twilio. Não temos mensagens suficientes para análise, assim sendo, vamos simular algumas mensagens para podermos analisá-las.\n",
        "Supondo que as mensagens abaixo foram salvas:"
      ],
      "metadata": {
        "id": "GwFaXAgJlL1z"
      }
    },
    {
      "cell_type": "markdown",
      "source": [
        "\n",
        "\n",
        "1.   O exemplo abaixo é uma série de dados ficticios, para simularmos uma análise de dados (sentimento)."
      ],
      "metadata": {
        "id": "b3QvNFnOrm60"
      }
    },
    {
      "cell_type": "code",
      "source": [
        "%%writefile mensagens_whatsapp.csv\n",
        "mensagem,numero_destinatario,sid_mensagem\n",
        "\"Olá, tudo bem?\", \"NÚMERO_1\", \"SID_1\"\n",
        "\"Vamos nos encontrar hoje?\", \"NÚMERO_2\", \"SID_2\"g\n",
        "\"Promoção especial, aproveite!\", \"NÚMERO_3\", \"SID_3\"\n",
        "\"Você recebeu o novo ebook!\", \"NÚMERO_1\", \"SID_4\"\n"
      ],
      "metadata": {
        "id": "Z8xDbtvrlmO1"
      },
      "execution_count": null,
      "outputs": []
    },
    {
      "cell_type": "markdown",
      "source": [
        "2.   Utilizar pandas e matplotlib para criar algumas visualizações simples:\n",
        "\n"
      ],
      "metadata": {
        "id": "3Z-p1lfKoWRk"
      }
    },
    {
      "cell_type": "markdown",
      "source": [
        "Com o estudo das mensagens, chegamos em uma parte importante chamada analise de sentimentos."
      ],
      "metadata": {
        "id": "r-qEpsjmokFJ"
      }
    },
    {
      "cell_type": "code",
      "source": [
        "import pandas as pd\n",
        "import matplotlib.pyplot as plt\n",
        "\n",
        "# Carregar os dados do arquivo CSV\n",
        "df = pd.read_csv('mensagens_whatsapp.csv')\n",
        "\n",
        "# Visualização 1: Frequência das mensagens por destinatário\n",
        "mensagens_por_destinatario = df['numero_destinatario'].value_counts()\n",
        "\n",
        "plt.figure(figsize=(8, 5))\n",
        "plt.bar(mensagens_por_destinatario.index, mensagens_por_destinatario.values)\n",
        "plt.xlabel('Destinatário')\n",
        "plt.ylabel('Número de Mensagens Enviadas')\n",
        "plt.title('Frequência das Mensagens por Destinatário')\n",
        "plt.xticks(rotation=45)\n",
        "plt.show()\n",
        "\n",
        "# Visualização 2: Análise de sentimento (simulação)\n",
        "sentimento_simulado = ['positivo', 'negativo', 'neutro']\n",
        "frequencia_sentimento = [10, 3, 5]\n",
        "\n",
        "plt.figure(figsize=(6, 6))\n",
        "plt.pie(frequencia_sentimento, labels=sentimento_simulado, autopct='%1.1f%%')\n",
        "plt.title('Análise de Sentimento das Mensagens')\n",
        "plt.show()\n",
        "\n",
        "# Visualização 3: Nuvem de palavras das mensagens (simulação)\n",
        "palavras_simuladas = ['promoção', 'encontro', 'ebook', 'especial']\n",
        "\n",
        "plt.figure(figsize=(8, 6))\n",
        "plt.bar(palavras_simuladas, [5, 3, 2, 4])\n",
        "plt.xlabel('Palavra')\n",
        "plt.ylabel('Frequência')\n",
        "plt.title('Nuvem de Palavras das Mensagens')\n",
        "plt.show()\n"
      ],
      "metadata": {
        "id": "z_hvydpdobIW"
      },
      "execution_count": null,
      "outputs": []
    },
    {
      "cell_type": "markdown",
      "source": [
        "\n",
        "3.   Utilizamos uma análise simulada de sentimento e uma nuvem de palavras com\n",
        "algumas palavras-chave fictícias. No entanto, podemos adaptar o código acima para usar análises de sentimento reais e as palavras mais frequentes extraídas do texto dessas mensagens."
      ],
      "metadata": {
        "id": "Y8jDYrnRo2Qe"
      }
    },
    {
      "cell_type": "code",
      "source": [
        "%%writefile mensagens_whatsapp2.csv\n",
        "mensagem,numero_destinatario,sid_mensagem\n",
        "\"Olá, tudo bem?\", \"NÚMERO_1\", \"SID_1\"\n",
        "\"Estou sem paciencia hoje hoje?\", \"NÚMERO_2\", \"SID_2\"g\n",
        "\"Você não está bem mesmo. Paciencia sempre foi seu forte!\", \"NÚMERO_1\", \"SID_1\"\n",
        "\"Não estou bem. Hoje foi um dia terrivel. Melhor nos falarmos amanhã.\", \"NÚMERO_2\", \"SID_2\"\n"
      ],
      "metadata": {
        "id": "0YjftLvxo13N"
      },
      "execution_count": null,
      "outputs": []
    },
    {
      "cell_type": "code",
      "source": [
        "import pandas as pd\n",
        "import matplotlib.pyplot as plt\n",
        "\n",
        "# Carregar os dados do arquivo CSV\n",
        "df = pd.read_csv('mensagens_whatsapp2.csv')\n",
        "\n",
        "# Visualização 2: Nuvem de palavras das mensagens (simulação)\n",
        "palavras_simuladas = ['paciencia', 'hoje', 'bem']\n",
        "\n",
        "plt.figure(figsize=(8, 6))\n",
        "plt.bar(palavras_simuladas, [5, 3, 4])\n",
        "plt.xlabel('Palavra')\n",
        "plt.ylabel('Frequência')\n",
        "plt.title('Nuvem de Palavras das Mensagens')\n",
        "plt.show()\n"
      ],
      "metadata": {
        "id": "a_26oPSYpq_T"
      },
      "execution_count": null,
      "outputs": []
    }
  ]
}
